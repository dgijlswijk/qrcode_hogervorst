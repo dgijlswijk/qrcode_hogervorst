{
 "cells": [
  {
   "cell_type": "code",
   "execution_count": null,
   "metadata": {},
   "outputs": [],
   "source": [
    "# Notebook voor test purposes. qrgenerator.py kan updates bevatten die hier niet in staan."
   ]
  },
  {
   "cell_type": "code",
   "execution_count": 121,
   "metadata": {},
   "outputs": [],
   "source": [
    "import qrcode\n",
    "import PIL\n",
    "\n",
    "servicenummer = 5886\n"
   ]
  },
  {
   "cell_type": "code",
   "execution_count": 132,
   "metadata": {},
   "outputs": [],
   "source": [
    "qr = qrcode.QRCode(\n",
    "    version=3, #integer from 1 to 40 that controls the size of the QR Code (the smallest, version 1, is a 21x21 matrix)\n",
    "    error_correction=qrcode.constants.ERROR_CORRECT_L,\n",
    "    box_size=10,\n",
    "    border=4,\n",
    ")\n",
    "qr.add_data('mailto:contact@hogervorst.nl?subject=Servicenummer:%20' + str(servicenummer) + '&body=Wat%20kan%20Hogervorst%20voor%20u%20betekenen?')\n",
    "qr.make()\n",
    "\n",
    "img = qr.make_image(fill_color=\"black\", back_color=\"white\")"
   ]
  },
  {
   "cell_type": "code",
   "execution_count": 133,
   "metadata": {},
   "outputs": [],
   "source": [
    "img = img.resize((180, 180))"
   ]
  },
  {
   "cell_type": "code",
   "execution_count": 134,
   "metadata": {},
   "outputs": [],
   "source": [
    "# creating a image object (new image object) with\n",
    "# RGB mode and size 200x200\n",
    "im = PIL.Image.new(mode=\"RGB\", size=(490, 180), color=(255,255,255))"
   ]
  },
  {
   "cell_type": "code",
   "execution_count": 135,
   "metadata": {},
   "outputs": [],
   "source": [
    "im.paste(img, (0, 0))"
   ]
  },
  {
   "cell_type": "code",
   "execution_count": 136,
   "metadata": {},
   "outputs": [],
   "source": [
    "image_editable = PIL.ImageDraw.Draw(im)"
   ]
  },
  {
   "cell_type": "code",
   "execution_count": 137,
   "metadata": {},
   "outputs": [],
   "source": [
    "from PIL import ImageFont"
   ]
  },
  {
   "cell_type": "code",
   "execution_count": 138,
   "metadata": {},
   "outputs": [],
   "source": [
    "font = ImageFont.truetype(\"Gidole-Regular.ttf\", size=90)\n",
    "image_editable.text((245,40), str(servicenummer), fill=(0, 0, 0), font=font)"
   ]
  },
  {
   "cell_type": "code",
   "execution_count": 139,
   "metadata": {},
   "outputs": [],
   "source": [
    "# This method will show image in any image viewer\n",
    "im.show()"
   ]
  },
  {
   "cell_type": "code",
   "execution_count": 140,
   "metadata": {},
   "outputs": [],
   "source": [
    "im.save(\"qr-\" + str(servicenummer) + \".png\")"
   ]
  },
  {
   "cell_type": "code",
   "execution_count": 17,
   "metadata": {},
   "outputs": [
    {
     "data": {
      "text/plain": [
       "37"
      ]
     },
     "execution_count": 17,
     "metadata": {},
     "output_type": "execute_result"
    }
   ],
   "source": [
    "img.width"
   ]
  }
 ],
 "metadata": {
  "kernelspec": {
   "display_name": "venv",
   "language": "python",
   "name": "python3"
  },
  "language_info": {
   "codemirror_mode": {
    "name": "ipython",
    "version": 3
   },
   "file_extension": ".py",
   "mimetype": "text/x-python",
   "name": "python",
   "nbconvert_exporter": "python",
   "pygments_lexer": "ipython3",
   "version": "3.8.10"
  },
  "orig_nbformat": 4,
  "vscode": {
   "interpreter": {
    "hash": "6efc663e0ff2e805f266c75679f80267786c9a711e5f9b2c80ceda96ad97d80d"
   }
  }
 },
 "nbformat": 4,
 "nbformat_minor": 2
}
