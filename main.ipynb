{
 "cells": [
  {
   "cell_type": "code",
   "execution_count": 121,
   "metadata": {},
   "outputs": [],
   "source": [
    "import qrcode\n",
    "import PIL\n",
    "\n",
    "servicenummer = 5886\n"
   ]
  },
  {
   "cell_type": "code",
   "execution_count": 132,
   "metadata": {},
   "outputs": [],
   "source": [
    "qr = qrcode.QRCode(\n",
    "    version=3, #integer from 1 to 40 that controls the size of the QR Code (the smallest, version 1, is a 21x21 matrix)\n",
    "    error_correction=qrcode.constants.ERROR_CORRECT_L,\n",
    "    box_size=10,\n",
    "    border=4,\n",
    ")\n",
    "qr.add_data('mailto:contact@hogervorst.nl?subject=Servicenummer:%20' + str(servicenummer) + '&body=Wat%20kan%20Hogervorst%20voor%20u%20betekenen?')\n",
    "qr.make()\n",
    "\n",
    "img = qr.make_image(fill_color=\"black\", back_color=\"white\")"
   ]
  },
  {
   "cell_type": "code",
   "execution_count": 133,
   "metadata": {},
   "outputs": [],
   "source": [
    "img = img.resize((180, 180))"
   ]
  },
  {
   "cell_type": "code",
   "execution_count": 134,
   "metadata": {},
   "outputs": [],
   "source": [
    "# creating a image object (new image object) with\n",
    "# RGB mode and size 200x200\n",
    "im = PIL.Image.new(mode=\"RGB\", size=(490, 180), color=(255,255,255))"
   ]
  },
  {
   "cell_type": "code",
   "execution_count": 135,
   "metadata": {},
   "outputs": [],
   "source": [
    "im.paste(img, (0, 0))"
   ]
  },
  {
   "cell_type": "code",
   "execution_count": 136,
   "metadata": {},
   "outputs": [],
   "source": [
    "image_editable = PIL.ImageDraw.Draw(im)"
   ]
  },
  {
   "cell_type": "code",
   "execution_count": 137,
   "metadata": {},
   "outputs": [],
   "source": [
    "from PIL import ImageFont"
   ]
  },
  {
   "cell_type": "code",
   "execution_count": 138,
   "metadata": {},
   "outputs": [],
   "source": [
    "font = ImageFont.truetype(\"Gidole-Regular.ttf\", size=90)\n",
    "image_editable.text((245,40), str(servicenummer), fill=(0, 0, 0), font=font)"
   ]
  },
  {
   "cell_type": "code",
   "execution_count": 139,
   "metadata": {},
   "outputs": [],
   "source": [
    "# This method will show image in any image viewer\n",
    "im.show()"
   ]
  },
  {
   "cell_type": "code",
   "execution_count": 140,
   "metadata": {},
   "outputs": [],
   "source": [
    "im.save(\"qr-\" + str(servicenummer) + \".png\")"
   ]
  },
  {
   "cell_type": "code",
   "execution_count": 17,
   "metadata": {},
   "outputs": [
    {
     "data": {
      "text/plain": [
       "37"
      ]
     },
     "execution_count": 17,
     "metadata": {},
     "output_type": "execute_result"
    }
   ],
   "source": [
    "img.width"
   ]
  },
  {
   "cell_type": "code",
   "execution_count": 3,
   "metadata": {},
   "outputs": [
    {
     "name": "stderr",
     "output_type": "stream",
     "text": [
      "651 INFO: PyInstaller: 5.8.0\n",
      "651 INFO: Python: 3.8.10\n",
      "682 INFO: Platform: Windows-10-10.0.19045-SP0\n",
      "683 INFO: wrote c:\\Users\\Dave\\OneDrive\\Documenten\\VSCodeProjects\\qrcode_hogervorst\\qrgenerator.spec\n",
      "688 INFO: UPX is not available.\n",
      "703 INFO: Extending PYTHONPATH with paths\n",
      "['c:\\\\Users\\\\Dave\\\\OneDrive\\\\Documenten\\\\VSCodeProjects\\\\qrcode_hogervorst']\n",
      "1169 INFO: checking Analysis\n",
      "1185 INFO: Building because C:\\Users\\Dave\\OneDrive\\Documenten\\VSCodeProjects\\qrcode_hogervorst\\qrgenerator.py changed\n",
      "1185 INFO: Initializing module dependency graph...\n",
      "1188 INFO: Caching module graph hooks...\n",
      "1210 INFO: Analyzing base_library.zip ...\n",
      "3199 INFO: Loading module hook 'hook-heapq.py' from 'C:\\\\Users\\\\Dave\\\\AppData\\\\Local\\\\Programs\\\\Python\\\\Python38\\\\lib\\\\site-packages\\\\PyInstaller\\\\hooks'...\n",
      "3563 INFO: Loading module hook 'hook-encodings.py' from 'C:\\\\Users\\\\Dave\\\\AppData\\\\Local\\\\Programs\\\\Python\\\\Python38\\\\lib\\\\site-packages\\\\PyInstaller\\\\hooks'...\n",
      "5162 INFO: Loading module hook 'hook-pickle.py' from 'C:\\\\Users\\\\Dave\\\\AppData\\\\Local\\\\Programs\\\\Python\\\\Python38\\\\lib\\\\site-packages\\\\PyInstaller\\\\hooks'...\n",
      "6451 INFO: Caching module dependency graph...\n",
      "6655 INFO: running Analysis Analysis-00.toc\n",
      "6660 INFO: Adding Microsoft.Windows.Common-Controls to dependent assemblies of final executable\n",
      "  required by C:\\Users\\Dave\\AppData\\Local\\Programs\\Python\\Python38\\python.exe\n",
      "6757 INFO: Analyzing c:\\Users\\Dave\\OneDrive\\Documenten\\VSCodeProjects\\qrcode_hogervorst\\qrgenerator.py\n",
      "7188 INFO: Loading module hook 'hook-PIL.py' from 'C:\\\\Users\\\\Dave\\\\AppData\\\\Local\\\\Programs\\\\Python\\\\Python38\\\\lib\\\\site-packages\\\\PyInstaller\\\\hooks'...\n",
      "7287 INFO: Loading module hook 'hook-PIL.Image.py' from 'C:\\\\Users\\\\Dave\\\\AppData\\\\Local\\\\Programs\\\\Python\\\\Python38\\\\lib\\\\site-packages\\\\PyInstaller\\\\hooks'...\n",
      "8830 INFO: Loading module hook 'hook-packaging.py' from 'C:\\\\Users\\\\Dave\\\\AppData\\\\Local\\\\Programs\\\\Python\\\\Python38\\\\lib\\\\site-packages\\\\PyInstaller\\\\hooks'...\n",
      "8884 INFO: Loading module hook 'hook-PIL.ImageFilter.py' from 'C:\\\\Users\\\\Dave\\\\AppData\\\\Local\\\\Programs\\\\Python\\\\Python38\\\\lib\\\\site-packages\\\\PyInstaller\\\\hooks'...\n",
      "9528 INFO: Processing module hooks...\n",
      "9795 INFO: Loading module hook 'hook-pkg_resources.py' from 'C:\\\\Users\\\\Dave\\\\AppData\\\\Local\\\\Programs\\\\Python\\\\Python38\\\\lib\\\\site-packages\\\\PyInstaller\\\\hooks'...\n",
      "14191 INFO: Loading module hook 'hook-platform.py' from 'C:\\\\Users\\\\Dave\\\\AppData\\\\Local\\\\Programs\\\\Python\\\\Python38\\\\lib\\\\site-packages\\\\PyInstaller\\\\hooks'...\n",
      "14354 INFO: Loading module hook 'hook-xml.py' from 'C:\\\\Users\\\\Dave\\\\AppData\\\\Local\\\\Programs\\\\Python\\\\Python38\\\\lib\\\\site-packages\\\\PyInstaller\\\\hooks'...\n",
      "14431 INFO: Loading module hook 'hook-sysconfig.py' from 'C:\\\\Users\\\\Dave\\\\AppData\\\\Local\\\\Programs\\\\Python\\\\Python38\\\\lib\\\\site-packages\\\\PyInstaller\\\\hooks'...\n",
      "15009 INFO: Loading module hook 'hook-PIL.SpiderImagePlugin.py' from 'C:\\\\Users\\\\Dave\\\\AppData\\\\Local\\\\Programs\\\\Python\\\\Python38\\\\lib\\\\site-packages\\\\PyInstaller\\\\hooks'...\n",
      "15264 INFO: Processing pre-safe import module hook win32com from 'C:\\\\Users\\\\Dave\\\\AppData\\\\Local\\\\Programs\\\\Python\\\\Python38\\\\lib\\\\site-packages\\\\_pyinstaller_hooks_contrib\\\\hooks\\\\pre_safe_import_module\\\\hook-win32com.py'.\n",
      "15497 INFO: Loading module hook 'hook-win32com.py' from 'C:\\\\Users\\\\Dave\\\\AppData\\\\Local\\\\Programs\\\\Python\\\\Python38\\\\lib\\\\site-packages\\\\_pyinstaller_hooks_contrib\\\\hooks\\\\stdhooks'...\n",
      "15500 INFO: Loading module hook 'hook-pythoncom.py' from 'C:\\\\Users\\\\Dave\\\\AppData\\\\Local\\\\Programs\\\\Python\\\\Python38\\\\lib\\\\site-packages\\\\_pyinstaller_hooks_contrib\\\\hooks\\\\stdhooks'...\n",
      "16349 INFO: Loading module hook 'hook-pywintypes.py' from 'C:\\\\Users\\\\Dave\\\\AppData\\\\Local\\\\Programs\\\\Python\\\\Python38\\\\lib\\\\site-packages\\\\_pyinstaller_hooks_contrib\\\\hooks\\\\stdhooks'...\n",
      "17463 INFO: Processing pre-find module path hook distutils from 'C:\\\\Users\\\\Dave\\\\AppData\\\\Local\\\\Programs\\\\Python\\\\Python38\\\\lib\\\\site-packages\\\\PyInstaller\\\\hooks\\\\pre_find_module_path\\\\hook-distutils.py'.\n",
      "17525 INFO: Loading module hook 'hook-distutils.py' from 'C:\\\\Users\\\\Dave\\\\AppData\\\\Local\\\\Programs\\\\Python\\\\Python38\\\\lib\\\\site-packages\\\\PyInstaller\\\\hooks'...\n",
      "17603 INFO: Loading module hook 'hook-distutils.util.py' from 'C:\\\\Users\\\\Dave\\\\AppData\\\\Local\\\\Programs\\\\Python\\\\Python38\\\\lib\\\\site-packages\\\\PyInstaller\\\\hooks'...\n",
      "20327 INFO: Loading module hook 'hook-_tkinter.py' from 'C:\\\\Users\\\\Dave\\\\AppData\\\\Local\\\\Programs\\\\Python\\\\Python38\\\\lib\\\\site-packages\\\\PyInstaller\\\\hooks'...\n",
      "20328 INFO: checking Tree\n",
      "20382 INFO: checking Tree\n",
      "20393 INFO: checking Tree\n",
      "21089 INFO: Looking for ctypes DLLs\n",
      "21101 INFO: Analyzing run-time hooks ...\n",
      "21104 INFO: Including run-time hook 'C:\\\\Users\\\\Dave\\\\AppData\\\\Local\\\\Programs\\\\Python\\\\Python38\\\\lib\\\\site-packages\\\\PyInstaller\\\\hooks\\\\rthooks\\\\pyi_rth__tkinter.py'\n",
      "21106 INFO: Including run-time hook 'C:\\\\Users\\\\Dave\\\\AppData\\\\Local\\\\Programs\\\\Python\\\\Python38\\\\lib\\\\site-packages\\\\PyInstaller\\\\hooks\\\\rthooks\\\\pyi_rth_pkgres.py'\n",
      "21112 INFO: Including run-time hook 'C:\\\\Users\\\\Dave\\\\AppData\\\\Local\\\\Programs\\\\Python\\\\Python38\\\\lib\\\\site-packages\\\\PyInstaller\\\\hooks\\\\rthooks\\\\pyi_rth_win32comgenpy.py'\n",
      "21114 INFO: Including run-time hook 'C:\\\\Users\\\\Dave\\\\AppData\\\\Local\\\\Programs\\\\Python\\\\Python38\\\\lib\\\\site-packages\\\\_pyinstaller_hooks_contrib\\\\hooks\\\\rthooks\\\\pyi_rth_pywintypes.py'\n",
      "21115 INFO: Including run-time hook 'C:\\\\Users\\\\Dave\\\\AppData\\\\Local\\\\Programs\\\\Python\\\\Python38\\\\lib\\\\site-packages\\\\_pyinstaller_hooks_contrib\\\\hooks\\\\rthooks\\\\pyi_rth_pythoncom.py'\n",
      "21117 INFO: Including run-time hook 'C:\\\\Users\\\\Dave\\\\AppData\\\\Local\\\\Programs\\\\Python\\\\Python38\\\\lib\\\\site-packages\\\\PyInstaller\\\\hooks\\\\rthooks\\\\pyi_rth_inspect.py'\n",
      "21118 INFO: Including run-time hook 'C:\\\\Users\\\\Dave\\\\AppData\\\\Local\\\\Programs\\\\Python\\\\Python38\\\\lib\\\\site-packages\\\\PyInstaller\\\\hooks\\\\rthooks\\\\pyi_rth_pkgutil.py'\n",
      "21142 INFO: Looking for dynamic libraries\n",
      "307 INFO: Extra DLL search directories (AddDllDirectory): []\n",
      "307 INFO: Extra DLL search directories (PATH): ['c:\\\\Users\\\\Dave\\\\AppData\\\\Local\\\\Programs\\\\Python\\\\Python38', 'c:\\\\Users\\\\Dave\\\\AppData\\\\Roaming\\\\Python\\\\Python38\\\\Scripts', 'C:\\\\WINDOWS\\\\system32', 'C:\\\\WINDOWS', 'C:\\\\WINDOWS\\\\System32\\\\Wbem', 'C:\\\\WINDOWS\\\\System32\\\\WindowsPowerShell\\\\v1.0\\\\', 'C:\\\\WINDOWS\\\\System32\\\\OpenSSH\\\\', 'C:\\\\Program Files\\\\Intel\\\\WiFi\\\\bin\\\\', 'C:\\\\Program Files\\\\Common Files\\\\Intel\\\\WirelessCommon\\\\', 'C:\\\\Program Files (x86)\\\\Intel\\\\Intel(R) Management Engine Components\\\\DAL', 'C:\\\\Program Files\\\\Intel\\\\Intel(R) Management Engine Components\\\\DAL', 'C:\\\\Program Files\\\\Git\\\\cmd', 'C:\\\\Users\\\\Dave\\\\AppData\\\\Local\\\\Microsoft\\\\WindowsApps', 'C:\\\\Users\\\\Dave\\\\AppData\\\\Local\\\\Programs\\\\Microsoft VS Code\\\\bin', 'C:\\\\Program Files\\\\Git\\\\bin\\\\', 'C:\\\\Program Files\\\\Git\\\\cmd\\\\', 'C:\\\\WINDOWS\\\\system32', 'C:\\\\WINDOWS', 'C:\\\\WINDOWS\\\\System32\\\\Wbem', 'C:\\\\WINDOWS\\\\System32\\\\WindowsPowerShell\\\\v1.0\\\\', 'C:\\\\WINDOWS\\\\System32\\\\OpenSSH\\\\', 'C:\\\\Program Files\\\\Intel\\\\WiFi\\\\bin\\\\', 'C:\\\\Program Files\\\\Common Files\\\\Intel\\\\WirelessCommon\\\\', 'C:\\\\Program Files (x86)\\\\Intel\\\\Intel(R) Management Engine Components\\\\DAL', 'C:\\\\Program Files\\\\Intel\\\\Intel(R) Management Engine Components\\\\DAL', 'C:\\\\Program Files\\\\Git\\\\cmd', 'C:\\\\Users\\\\Dave\\\\AppData\\\\Local\\\\Microsoft\\\\WindowsApps', 'C:\\\\Users\\\\Dave\\\\AppData\\\\Local\\\\Programs\\\\Microsoft VS Code\\\\bin', 'C:\\\\Program Files\\\\Git\\\\bin\\\\', 'C:\\\\Program Files\\\\Git\\\\cmd\\\\']\n",
      "551 WARNING: lib not found: pywintypes38.dll dependency of C:\\Users\\Dave\\AppData\\Roaming\\Python\\Python38\\site-packages\\win32\\win32trace.pyd\n",
      "588 WARNING: lib not found: pywintypes38.dll dependency of C:\\Users\\Dave\\AppData\\Roaming\\Python\\Python38\\site-packages\\Pythonwin\\win32ui.pyd\n",
      "631 WARNING: lib not found: pywintypes38.dll dependency of C:\\Users\\Dave\\AppData\\Roaming\\Python\\Python38\\site-packages\\win32\\win32api.pyd\n",
      "673 WARNING: lib not found: pywintypes38.dll dependency of C:\\Users\\Dave\\AppData\\Roaming\\Python\\Python38\\site-packages\\win32\\win32wnet.pyd\n",
      "710 WARNING: lib not found: pythoncom38.dll dependency of C:\\Users\\Dave\\AppData\\Roaming\\Python\\Python38\\site-packages\\win32comext\\shell\\shell.pyd\n",
      "720 WARNING: lib not found: pywintypes38.dll dependency of C:\\Users\\Dave\\AppData\\Roaming\\Python\\Python38\\site-packages\\win32comext\\shell\\shell.pyd\n",
      "22714 INFO: Looking for eggs\n",
      "22714 INFO: Using Python library C:\\Users\\Dave\\AppData\\Local\\Programs\\Python\\Python38\\python38.dll\n",
      "22715 INFO: Found binding redirects: \n",
      "[]\n",
      "22719 INFO: Warnings written to c:\\Users\\Dave\\OneDrive\\Documenten\\VSCodeProjects\\qrcode_hogervorst\\build\\qrgenerator\\warn-qrgenerator.txt\n",
      "22776 INFO: Graph cross-reference written to c:\\Users\\Dave\\OneDrive\\Documenten\\VSCodeProjects\\qrcode_hogervorst\\build\\qrgenerator\\xref-qrgenerator.html\n",
      "22823 INFO: checking PYZ\n",
      "22845 INFO: checking PKG\n",
      "22846 INFO: Building because toc changed\n",
      "22846 INFO: Building PKG (CArchive) qrgenerator.pkg\n",
      "28244 INFO: Building PKG (CArchive) qrgenerator.pkg completed successfully.\n",
      "28287 INFO: Bootloader C:\\Users\\Dave\\AppData\\Local\\Programs\\Python\\Python38\\lib\\site-packages\\PyInstaller\\bootloader\\Windows-64bit-intel\\run.exe\n",
      "28287 INFO: checking EXE\n",
      "28288 INFO: Building because name changed\n",
      "28289 INFO: Building EXE from EXE-00.toc\n",
      "28290 INFO: Copying bootloader EXE to c:\\Users\\Dave\\OneDrive\\Documenten\\VSCodeProjects\\qrcode_hogervorst\\dist\\qrgenerator.exe.notanexecutable\n",
      "28433 INFO: Copying icon to EXE\n",
      "28437 INFO: Copying icons from ['C:\\\\Users\\\\Dave\\\\AppData\\\\Local\\\\Programs\\\\Python\\\\Python38\\\\lib\\\\site-packages\\\\PyInstaller\\\\bootloader\\\\images\\\\icon-console.ico']\n",
      "28545 INFO: Writing RT_GROUP_ICON 0 resource with 104 bytes\n",
      "28545 INFO: Writing RT_ICON 1 resource with 3752 bytes\n",
      "28545 INFO: Writing RT_ICON 2 resource with 2216 bytes\n",
      "28545 INFO: Writing RT_ICON 3 resource with 1384 bytes\n",
      "28545 INFO: Writing RT_ICON 4 resource with 37019 bytes\n",
      "28545 INFO: Writing RT_ICON 5 resource with 9640 bytes\n",
      "28545 INFO: Writing RT_ICON 6 resource with 4264 bytes\n",
      "28545 INFO: Writing RT_ICON 7 resource with 1128 bytes\n",
      "28554 INFO: Copying 0 resources to EXE\n",
      "28554 INFO: Embedding manifest in EXE\n",
      "28557 INFO: Updating manifest in c:\\Users\\Dave\\OneDrive\\Documenten\\VSCodeProjects\\qrcode_hogervorst\\dist\\qrgenerator.exe.notanexecutable\n",
      "28625 INFO: Updating resource type 24 name 1 language 0\n",
      "28631 INFO: Appending PKG archive to EXE\n",
      "28664 INFO: Fixing EXE headers\n",
      "28980 INFO: Building EXE from EXE-00.toc completed successfully.\n"
     ]
    }
   ],
   "source": [
    "! py -m PyInstaller --noconfirm --onefile --console qrgenerator.py "
   ]
  },
  {
   "cell_type": "code",
   "execution_count": 7,
   "metadata": {},
   "outputs": [
    {
     "name": "stderr",
     "output_type": "stream",
     "text": [
      "530 INFO: PyInstaller: 5.8.0\n",
      "531 INFO: Python: 3.8.10\n",
      "565 INFO: Platform: Windows-10-10.0.19045-SP0\n",
      "567 INFO: wrote c:\\Users\\Dave\\OneDrive\\Documenten\\VSCodeProjects\\qrcode_hogervorst\\qrgenerator.spec\n",
      "572 INFO: UPX is not available.\n",
      "589 INFO: Extending PYTHONPATH with paths\n",
      "['c:\\\\Users\\\\Dave\\\\OneDrive\\\\Documenten\\\\VSCodeProjects\\\\qrcode_hogervorst']\n",
      "1499 INFO: checking Analysis\n",
      "1625 INFO: Appending 'datas' from .spec\n",
      "1628 INFO: checking PYZ\n",
      "1657 INFO: checking PKG\n",
      "1658 INFO: Bootloader C:\\Users\\Dave\\AppData\\Local\\Programs\\Python\\Python38\\lib\\site-packages\\PyInstaller\\bootloader\\Windows-64bit-intel\\run.exe\n",
      "1658 INFO: checking EXE\n",
      "1661 INFO: checking COLLECT\n",
      "1670 INFO: Removing dir c:\\Users\\Dave\\OneDrive\\Documenten\\VSCodeProjects\\qrcode_hogervorst\\dist\\qrgenerator\n",
      "2432 INFO: Building COLLECT COLLECT-00.toc\n",
      "6055 INFO: Building COLLECT COLLECT-00.toc completed successfully.\n"
     ]
    }
   ],
   "source": [
    "! py -m PyInstaller qrgenerator.py -y --add-data=\"files/Gidole-Regular.ttf;files\""
   ]
  },
  {
   "cell_type": "code",
   "execution_count": null,
   "metadata": {},
   "outputs": [],
   "source": []
  }
 ],
 "metadata": {
  "kernelspec": {
   "display_name": "venv",
   "language": "python",
   "name": "python3"
  },
  "language_info": {
   "codemirror_mode": {
    "name": "ipython",
    "version": 3
   },
   "file_extension": ".py",
   "mimetype": "text/x-python",
   "name": "python",
   "nbconvert_exporter": "python",
   "pygments_lexer": "ipython3",
   "version": "3.8.10"
  },
  "orig_nbformat": 4,
  "vscode": {
   "interpreter": {
    "hash": "6efc663e0ff2e805f266c75679f80267786c9a711e5f9b2c80ceda96ad97d80d"
   }
  }
 },
 "nbformat": 4,
 "nbformat_minor": 2
}
