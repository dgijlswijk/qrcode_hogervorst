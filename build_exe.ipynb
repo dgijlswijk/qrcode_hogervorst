{
 "cells": [
  {
   "attachments": {},
   "cell_type": "markdown",
   "metadata": {},
   "source": [
    "# Hiermee kun je de exe genereren"
   ]
  },
  {
   "cell_type": "code",
   "execution_count": 3,
   "metadata": {},
   "outputs": [
    {
     "name": "stderr",
     "output_type": "stream",
     "text": [
      "483 INFO: PyInstaller: 5.8.0\n",
      "483 INFO: Python: 3.8.10\n",
      "513 INFO: Platform: Windows-10-10.0.19045-SP0\n",
      "515 INFO: wrote c:\\Users\\Dave\\OneDrive\\Documenten\\VSCodeProjects\\qrcode_hogervorst\\qrgenerator.spec\n",
      "525 INFO: UPX is not available.\n",
      "529 INFO: Extending PYTHONPATH with paths\n",
      "['c:\\\\Users\\\\Dave\\\\OneDrive\\\\Documenten\\\\VSCodeProjects\\\\qrcode_hogervorst']\n",
      "1223 INFO: checking Analysis\n",
      "1379 INFO: Appending 'datas' from .spec\n",
      "1382 INFO: checking PYZ\n",
      "1425 INFO: checking PKG\n",
      "1441 INFO: Building because toc changed\n",
      "1441 INFO: Building PKG (CArchive) qrgenerator.pkg\n",
      "1477 INFO: Building PKG (CArchive) qrgenerator.pkg completed successfully.\n",
      "1480 INFO: Bootloader C:\\Users\\Dave\\AppData\\Local\\Programs\\Python\\Python38\\lib\\site-packages\\PyInstaller\\bootloader\\Windows-64bit-intel\\run.exe\n",
      "1480 INFO: checking EXE\n",
      "1494 INFO: Building because name changed\n",
      "1494 INFO: Building EXE from EXE-00.toc\n",
      "1495 INFO: Copying bootloader EXE to c:\\Users\\Dave\\OneDrive\\Documenten\\VSCodeProjects\\qrcode_hogervorst\\build\\qrgenerator\\qrgenerator.exe.notanexecutable\n",
      "1546 INFO: Copying icon to EXE\n",
      "1547 INFO: Copying icons from ['C:\\\\Users\\\\Dave\\\\AppData\\\\Local\\\\Programs\\\\Python\\\\Python38\\\\lib\\\\site-packages\\\\PyInstaller\\\\bootloader\\\\images\\\\icon-console.ico']\n",
      "1599 INFO: Writing RT_GROUP_ICON 0 resource with 104 bytes\n",
      "1599 INFO: Writing RT_ICON 1 resource with 3752 bytes\n",
      "1599 INFO: Writing RT_ICON 2 resource with 2216 bytes\n",
      "1599 INFO: Writing RT_ICON 3 resource with 1384 bytes\n",
      "1599 INFO: Writing RT_ICON 4 resource with 37019 bytes\n",
      "1599 INFO: Writing RT_ICON 5 resource with 9640 bytes\n",
      "1599 INFO: Writing RT_ICON 6 resource with 4264 bytes\n",
      "1599 INFO: Writing RT_ICON 7 resource with 1128 bytes\n",
      "1608 INFO: Copying 0 resources to EXE\n",
      "1608 INFO: Embedding manifest in EXE\n",
      "1609 INFO: Updating manifest in c:\\Users\\Dave\\OneDrive\\Documenten\\VSCodeProjects\\qrcode_hogervorst\\build\\qrgenerator\\qrgenerator.exe.notanexecutable\n",
      "1656 INFO: Updating resource type 24 name 1 language 0\n",
      "1662 INFO: Appending PKG archive to EXE\n",
      "1681 INFO: Fixing EXE headers\n",
      "1930 INFO: Building EXE from EXE-00.toc completed successfully.\n",
      "1941 INFO: checking COLLECT\n",
      "1957 INFO: Removing dir c:\\Users\\Dave\\OneDrive\\Documenten\\VSCodeProjects\\qrcode_hogervorst\\dist\\qrgenerator\n",
      "3039 INFO: Building COLLECT COLLECT-00.toc\n",
      "5631 INFO: Building COLLECT COLLECT-00.toc completed successfully.\n"
     ]
    }
   ],
   "source": [
    "! py -m PyInstaller qrgenerator.py -y --add-data=\"files/Gidole-Regular.ttf;files\""
   ]
  },
  {
   "cell_type": "code",
   "execution_count": null,
   "metadata": {},
   "outputs": [],
   "source": []
  }
 ],
 "metadata": {
  "kernelspec": {
   "display_name": "Python 3",
   "language": "python",
   "name": "python3"
  },
  "language_info": {
   "codemirror_mode": {
    "name": "ipython",
    "version": 3
   },
   "file_extension": ".py",
   "mimetype": "text/x-python",
   "name": "python",
   "nbconvert_exporter": "python",
   "pygments_lexer": "ipython3",
   "version": "3.8.10"
  },
  "orig_nbformat": 4
 },
 "nbformat": 4,
 "nbformat_minor": 2
}
